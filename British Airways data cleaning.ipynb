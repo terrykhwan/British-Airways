{
 "cells": [
  {
   "cell_type": "code",
   "execution_count": 4,
   "id": "977d4ccb",
   "metadata": {},
   "outputs": [],
   "source": [
    "#imports\n",
    "\n",
    "import pandas as pd\n",
    "import matplotlib.pyplot as plt\n",
    "import seaborn as sns\n",
    "import os"
   ]
  },
  {
   "cell_type": "code",
   "execution_count": 5,
   "id": "78c4823e",
   "metadata": {},
   "outputs": [],
   "source": [
    "import re"
   ]
  },
  {
   "cell_type": "code",
   "execution_count": 6,
   "id": "bd14c6c6",
   "metadata": {},
   "outputs": [],
   "source": [
    "#get dataframe from csv file \n",
    "\n",
    "cwd = os.getcwd()\n",
    "\n",
    "df = pd.read_csv(cwd+\"/BritAir_reviews.csv\", index_col=0)"
   ]
  },
  {
   "cell_type": "code",
   "execution_count": 7,
   "id": "ab5b8198",
   "metadata": {},
   "outputs": [
    {
     "data": {
      "text/html": [
       "<div>\n",
       "<style scoped>\n",
       "    .dataframe tbody tr th:only-of-type {\n",
       "        vertical-align: middle;\n",
       "    }\n",
       "\n",
       "    .dataframe tbody tr th {\n",
       "        vertical-align: top;\n",
       "    }\n",
       "\n",
       "    .dataframe thead th {\n",
       "        text-align: right;\n",
       "    }\n",
       "</style>\n",
       "<table border=\"1\" class=\"dataframe\">\n",
       "  <thead>\n",
       "    <tr style=\"text-align: right;\">\n",
       "      <th></th>\n",
       "      <th>reviews</th>\n",
       "      <th>stars</th>\n",
       "      <th>date</th>\n",
       "      <th>country</th>\n",
       "    </tr>\n",
       "  </thead>\n",
       "  <tbody>\n",
       "    <tr>\n",
       "      <th>0</th>\n",
       "      <td>Not Verified | BA is not treating its premium ...</td>\n",
       "      <td>\\n\\t\\t\\t\\t\\t\\t\\t\\t\\t\\t\\t\\t\\t5</td>\n",
       "      <td>6th July 2023</td>\n",
       "      <td>United Kingdom</td>\n",
       "    </tr>\n",
       "    <tr>\n",
       "      <th>1</th>\n",
       "      <td>✅ Trip Verified |  24 hours before our departu...</td>\n",
       "      <td>4</td>\n",
       "      <td>5th July 2023</td>\n",
       "      <td>South Africa</td>\n",
       "    </tr>\n",
       "    <tr>\n",
       "      <th>2</th>\n",
       "      <td>✅ Trip Verified |  We arrived at Heathrow at 0...</td>\n",
       "      <td>1</td>\n",
       "      <td>5th July 2023</td>\n",
       "      <td>United Kingdom</td>\n",
       "    </tr>\n",
       "    <tr>\n",
       "      <th>3</th>\n",
       "      <td>✅ Trip Verified |  Original flight was cancell...</td>\n",
       "      <td>1</td>\n",
       "      <td>4th July 2023</td>\n",
       "      <td>Greece</td>\n",
       "    </tr>\n",
       "    <tr>\n",
       "      <th>4</th>\n",
       "      <td>Not Verified |  Airport check in was functiona...</td>\n",
       "      <td>3</td>\n",
       "      <td>3rd July 2023</td>\n",
       "      <td>Italy</td>\n",
       "    </tr>\n",
       "  </tbody>\n",
       "</table>\n",
       "</div>"
      ],
      "text/plain": [
       "                                             reviews  \\\n",
       "0  Not Verified | BA is not treating its premium ...   \n",
       "1  ✅ Trip Verified |  24 hours before our departu...   \n",
       "2  ✅ Trip Verified |  We arrived at Heathrow at 0...   \n",
       "3  ✅ Trip Verified |  Original flight was cancell...   \n",
       "4  Not Verified |  Airport check in was functiona...   \n",
       "\n",
       "                           stars           date         country  \n",
       "0  \\n\\t\\t\\t\\t\\t\\t\\t\\t\\t\\t\\t\\t\\t5  6th July 2023  United Kingdom  \n",
       "1                              4  5th July 2023    South Africa  \n",
       "2                              1  5th July 2023  United Kingdom  \n",
       "3                              1  4th July 2023          Greece  \n",
       "4                              3  3rd July 2023           Italy  "
      ]
     },
     "execution_count": 7,
     "metadata": {},
     "output_type": "execute_result"
    }
   ],
   "source": [
    "df.head()"
   ]
  },
  {
   "cell_type": "code",
   "execution_count": 8,
   "id": "cb991823",
   "metadata": {},
   "outputs": [],
   "source": [
    "df['verified'] = df.reviews.str.contains(\"Trip Verified\")"
   ]
  },
  {
   "cell_type": "code",
   "execution_count": 9,
   "id": "8f78ed83",
   "metadata": {},
   "outputs": [
    {
     "data": {
      "text/plain": [
       "0       False\n",
       "1        True\n",
       "2        True\n",
       "3        True\n",
       "4       False\n",
       "        ...  \n",
       "3495    False\n",
       "3496    False\n",
       "3497    False\n",
       "3498    False\n",
       "3499    False\n",
       "Name: verified, Length: 3500, dtype: bool"
      ]
     },
     "execution_count": 9,
     "metadata": {},
     "output_type": "execute_result"
    }
   ],
   "source": [
    "df['verified']"
   ]
  },
  {
   "cell_type": "markdown",
   "id": "07129aa7",
   "metadata": {},
   "source": [
    "# Cleaning the reviews"
   ]
  },
  {
   "cell_type": "code",
   "execution_count": 10,
   "id": "0acad089",
   "metadata": {},
   "outputs": [],
   "source": [
    "#import nltk library for lemmatization of words\n",
    "\n",
    "from nltk.stem import WordNetLemmatizer\n",
    "from nltk.corpus import stopwords\n",
    "lemma = WordNetLemmatizer()"
   ]
  },
  {
   "cell_type": "code",
   "execution_count": 11,
   "id": "814bb48e",
   "metadata": {},
   "outputs": [],
   "source": [
    "reviews_data = df.reviews.str.strip(\"✅ Trip Verified |\")"
   ]
  },
  {
   "cell_type": "code",
   "execution_count": 12,
   "id": "412ddc94",
   "metadata": {},
   "outputs": [],
   "source": [
    "#list for cleaned data corpus\n",
    "corpus = []"
   ]
  },
  {
   "cell_type": "code",
   "execution_count": 13,
   "id": "7a4d767e",
   "metadata": {},
   "outputs": [],
   "source": [
    "#here, remove punctuations, make all lowercase, loop through each review, join it then add it to corpus\n",
    "for rev in reviews_data:\n",
    "    rev = re.sub('[^a-zA-Z]',' ', rev)\n",
    "    rev = rev.lower()\n",
    "    rev = rev.split()\n",
    "    rev = [lemma.lemmatize(word) for word in rev if word not in set(stopwords.words(\"english\"))]\n",
    "    rev = \" \".join(rev)\n",
    "    corpus.append(rev)"
   ]
  },
  {
   "cell_type": "code",
   "execution_count": 14,
   "id": "8e8510d2",
   "metadata": {},
   "outputs": [],
   "source": [
    "df['corpus'] = corpus"
   ]
  },
  {
   "cell_type": "code",
   "execution_count": 15,
   "id": "b4a3e605",
   "metadata": {},
   "outputs": [
    {
     "data": {
      "text/html": [
       "<div>\n",
       "<style scoped>\n",
       "    .dataframe tbody tr th:only-of-type {\n",
       "        vertical-align: middle;\n",
       "    }\n",
       "\n",
       "    .dataframe tbody tr th {\n",
       "        vertical-align: top;\n",
       "    }\n",
       "\n",
       "    .dataframe thead th {\n",
       "        text-align: right;\n",
       "    }\n",
       "</style>\n",
       "<table border=\"1\" class=\"dataframe\">\n",
       "  <thead>\n",
       "    <tr style=\"text-align: right;\">\n",
       "      <th></th>\n",
       "      <th>reviews</th>\n",
       "      <th>stars</th>\n",
       "      <th>date</th>\n",
       "      <th>country</th>\n",
       "      <th>verified</th>\n",
       "      <th>corpus</th>\n",
       "    </tr>\n",
       "  </thead>\n",
       "  <tbody>\n",
       "    <tr>\n",
       "      <th>0</th>\n",
       "      <td>Not Verified | BA is not treating its premium ...</td>\n",
       "      <td>\\n\\t\\t\\t\\t\\t\\t\\t\\t\\t\\t\\t\\t\\t5</td>\n",
       "      <td>6th July 2023</td>\n",
       "      <td>United Kingdom</td>\n",
       "      <td>False</td>\n",
       "      <td>verified ba treating premium economy passenger...</td>\n",
       "    </tr>\n",
       "    <tr>\n",
       "      <th>1</th>\n",
       "      <td>✅ Trip Verified |  24 hours before our departu...</td>\n",
       "      <td>4</td>\n",
       "      <td>5th July 2023</td>\n",
       "      <td>South Africa</td>\n",
       "      <td>True</td>\n",
       "      <td>hour departure ba cape town heathrow thursday ...</td>\n",
       "    </tr>\n",
       "    <tr>\n",
       "      <th>2</th>\n",
       "      <td>✅ Trip Verified |  We arrived at Heathrow at 0...</td>\n",
       "      <td>1</td>\n",
       "      <td>5th July 2023</td>\n",
       "      <td>United Kingdom</td>\n",
       "      <td>True</td>\n",
       "      <td>arrived heathrow find flight ibiza cancelled b...</td>\n",
       "    </tr>\n",
       "    <tr>\n",
       "      <th>3</th>\n",
       "      <td>✅ Trip Verified |  Original flight was cancell...</td>\n",
       "      <td>1</td>\n",
       "      <td>4th July 2023</td>\n",
       "      <td>Greece</td>\n",
       "      <td>True</td>\n",
       "      <td>original flight cancelled explanation represen...</td>\n",
       "    </tr>\n",
       "    <tr>\n",
       "      <th>4</th>\n",
       "      <td>Not Verified |  Airport check in was functiona...</td>\n",
       "      <td>3</td>\n",
       "      <td>3rd July 2023</td>\n",
       "      <td>Italy</td>\n",
       "      <td>False</td>\n",
       "      <td>verified airport check functionary little warm...</td>\n",
       "    </tr>\n",
       "  </tbody>\n",
       "</table>\n",
       "</div>"
      ],
      "text/plain": [
       "                                             reviews  \\\n",
       "0  Not Verified | BA is not treating its premium ...   \n",
       "1  ✅ Trip Verified |  24 hours before our departu...   \n",
       "2  ✅ Trip Verified |  We arrived at Heathrow at 0...   \n",
       "3  ✅ Trip Verified |  Original flight was cancell...   \n",
       "4  Not Verified |  Airport check in was functiona...   \n",
       "\n",
       "                           stars           date         country  verified  \\\n",
       "0  \\n\\t\\t\\t\\t\\t\\t\\t\\t\\t\\t\\t\\t\\t5  6th July 2023  United Kingdom     False   \n",
       "1                              4  5th July 2023    South Africa      True   \n",
       "2                              1  5th July 2023  United Kingdom      True   \n",
       "3                              1  4th July 2023          Greece      True   \n",
       "4                              3  3rd July 2023           Italy     False   \n",
       "\n",
       "                                              corpus  \n",
       "0  verified ba treating premium economy passenger...  \n",
       "1  hour departure ba cape town heathrow thursday ...  \n",
       "2  arrived heathrow find flight ibiza cancelled b...  \n",
       "3  original flight cancelled explanation represen...  \n",
       "4  verified airport check functionary little warm...  "
      ]
     },
     "execution_count": 15,
     "metadata": {},
     "output_type": "execute_result"
    }
   ],
   "source": [
    "df.head()"
   ]
  },
  {
   "cell_type": "markdown",
   "id": "00fb89c2",
   "metadata": {},
   "source": [
    "# Cleaning the format date"
   ]
  },
  {
   "cell_type": "code",
   "execution_count": 17,
   "id": "4ea21744",
   "metadata": {},
   "outputs": [
    {
     "data": {
      "text/plain": [
       "reviews     object\n",
       "stars       object\n",
       "date        object\n",
       "country     object\n",
       "verified      bool\n",
       "corpus      object\n",
       "dtype: object"
      ]
     },
     "execution_count": 17,
     "metadata": {},
     "output_type": "execute_result"
    }
   ],
   "source": [
    "df.dtypes"
   ]
  },
  {
   "cell_type": "code",
   "execution_count": 19,
   "id": "2591e7e0",
   "metadata": {},
   "outputs": [],
   "source": [
    "df.date = pd.to_datetime(df.date)"
   ]
  },
  {
   "cell_type": "code",
   "execution_count": 20,
   "id": "c0e7faae",
   "metadata": {},
   "outputs": [
    {
     "data": {
      "text/plain": [
       "0   2023-07-06\n",
       "1   2023-07-05\n",
       "2   2023-07-05\n",
       "3   2023-07-04\n",
       "4   2023-07-03\n",
       "Name: date, dtype: datetime64[ns]"
      ]
     },
     "execution_count": 20,
     "metadata": {},
     "output_type": "execute_result"
    }
   ],
   "source": [
    "df.date.head()"
   ]
  },
  {
   "cell_type": "markdown",
   "id": "234f59f0",
   "metadata": {},
   "source": [
    "# Cleaning the rating stars"
   ]
  },
  {
   "cell_type": "code",
   "execution_count": 21,
   "id": "ed98f471",
   "metadata": {},
   "outputs": [
    {
     "data": {
      "text/plain": [
       "array(['\\n\\t\\t\\t\\t\\t\\t\\t\\t\\t\\t\\t\\t\\t5', '4', '1', '3', '10', '2', '7',\n",
       "       '9', '5', '8', '6', 'None'], dtype=object)"
      ]
     },
     "execution_count": 21,
     "metadata": {},
     "output_type": "execute_result"
    }
   ],
   "source": [
    "#check for unique values and remove outliers\n",
    "df.stars.unique()"
   ]
  },
  {
   "cell_type": "code",
   "execution_count": 22,
   "id": "4bbd8320",
   "metadata": {},
   "outputs": [],
   "source": [
    "df.stars = df.stars.str.strip('\\n\\t\\t\\t\\t\\t\\t\\t\\t\\t\\t\\t\\t\\t5')"
   ]
  },
  {
   "cell_type": "code",
   "execution_count": 23,
   "id": "387fd097",
   "metadata": {},
   "outputs": [
    {
     "data": {
      "text/plain": [
       "1       797\n",
       "2       395\n",
       "3       394\n",
       "8       346\n",
       "7       300\n",
       "10      298\n",
       "9       295\n",
       "        255\n",
       "4       239\n",
       "6       176\n",
       "None      5\n",
       "Name: stars, dtype: int64"
      ]
     },
     "execution_count": 23,
     "metadata": {},
     "output_type": "execute_result"
    }
   ],
   "source": [
    "(df.star).value_counts()"
   ]
  },
  {
   "cell_type": "code",
   "execution_count": 26,
   "id": "ac351813",
   "metadata": {},
   "outputs": [],
   "source": [
    "# remove rows with None\n",
    "df.drop(df[df.stars == \"None\"].index, axis=0, inplace=True)"
   ]
  },
  {
   "cell_type": "code",
   "execution_count": 28,
   "id": "58ecbce0",
   "metadata": {},
   "outputs": [
    {
     "data": {
      "text/plain": [
       "array(['', '4', '1', '3', '10', '2', '7', '9', '8', '6'], dtype=object)"
      ]
     },
     "execution_count": 28,
     "metadata": {},
     "output_type": "execute_result"
    }
   ],
   "source": [
    "#check the unique values again\n",
    "df.stars.unique()"
   ]
  },
  {
   "cell_type": "code",
   "execution_count": 36,
   "id": "dd121ccc",
   "metadata": {
    "scrolled": true
   },
   "outputs": [
    {
     "data": {
      "text/plain": [
       "reviews  stars  date   country  verified  corpus\n",
       "False    False  False  False    False     False     3493\n",
       "dtype: int64"
      ]
     },
     "execution_count": 36,
     "metadata": {},
     "output_type": "execute_result"
    }
   ],
   "source": [
    "#check for null values \n",
    "df.isnull().value_counts()"
   ]
  },
  {
   "cell_type": "code",
   "execution_count": 30,
   "id": "2a7aaa41",
   "metadata": {},
   "outputs": [
    {
     "data": {
      "text/plain": [
       "False    3493\n",
       "True        2\n",
       "Name: country, dtype: int64"
      ]
     },
     "execution_count": 30,
     "metadata": {},
     "output_type": "execute_result"
    }
   ],
   "source": [
    "df.country.isnull().value_counts()"
   ]
  },
  {
   "cell_type": "code",
   "execution_count": 31,
   "id": "f7a5652a",
   "metadata": {},
   "outputs": [],
   "source": [
    "df.drop(df[df.country.isnull()== True].index, axis=0, inplace=True)"
   ]
  },
  {
   "cell_type": "code",
   "execution_count": 37,
   "id": "215bea53",
   "metadata": {},
   "outputs": [
    {
     "data": {
      "text/plain": [
       "array(['United Kingdom', 'South Africa', 'Greece', 'Italy', 'Senegal',\n",
       "       'United States', 'United Arab Emirates', 'Romania', 'Australia',\n",
       "       'Canada', 'Cyprus', 'Spain', 'Chile', 'Sweden', 'Ireland',\n",
       "       'Hong Kong', 'Netherlands', 'Austria', 'France', 'India',\n",
       "       'Belgium', 'New Zealand', 'Czech Republic', 'Malaysia',\n",
       "       'Singapore', 'Ghana', 'Germany', 'Switzerland', 'Bermuda',\n",
       "       'Botswana', 'Brazil', 'Panama', 'Nigeria', 'Russian Federation',\n",
       "       'Philippines', 'Bulgaria', 'Poland', 'Thailand', 'Argentina',\n",
       "       'Mexico', 'Denmark', 'Saint Kitts and Nevis', 'Vietnam', 'Norway',\n",
       "       'Jordan', 'Japan', 'Taiwan', 'China', 'Slovakia', 'Kuwait',\n",
       "       'Israel', 'Qatar', 'South Korea', 'Saudi Arabia', 'Hungary',\n",
       "       'Portugal', 'Cayman Islands', 'Costa Rica', 'Egypt', 'Iceland',\n",
       "       'Laos', 'Turkey', 'Indonesia', 'Bahrain', 'Dominican Republic',\n",
       "       'Luxembourg', 'Finland', 'Ukraine', 'Trinidad & Tobago'],\n",
       "      dtype=object)"
      ]
     },
     "execution_count": 37,
     "metadata": {},
     "output_type": "execute_result"
    }
   ],
   "source": [
    "df.country.unique()"
   ]
  },
  {
   "cell_type": "code",
   "execution_count": 32,
   "id": "1d6457b0",
   "metadata": {},
   "outputs": [
    {
     "data": {
      "text/plain": [
       "(3493, 6)"
      ]
     },
     "execution_count": 32,
     "metadata": {},
     "output_type": "execute_result"
    }
   ],
   "source": [
    "df.shape"
   ]
  },
  {
   "cell_type": "code",
   "execution_count": 33,
   "id": "96016808",
   "metadata": {},
   "outputs": [
    {
     "data": {
      "text/html": [
       "<div>\n",
       "<style scoped>\n",
       "    .dataframe tbody tr th:only-of-type {\n",
       "        vertical-align: middle;\n",
       "    }\n",
       "\n",
       "    .dataframe tbody tr th {\n",
       "        vertical-align: top;\n",
       "    }\n",
       "\n",
       "    .dataframe thead th {\n",
       "        text-align: right;\n",
       "    }\n",
       "</style>\n",
       "<table border=\"1\" class=\"dataframe\">\n",
       "  <thead>\n",
       "    <tr style=\"text-align: right;\">\n",
       "      <th></th>\n",
       "      <th>reviews</th>\n",
       "      <th>stars</th>\n",
       "      <th>date</th>\n",
       "      <th>country</th>\n",
       "      <th>verified</th>\n",
       "      <th>corpus</th>\n",
       "    </tr>\n",
       "  </thead>\n",
       "  <tbody>\n",
       "    <tr>\n",
       "      <th>0</th>\n",
       "      <td>Not Verified | BA is not treating its premium ...</td>\n",
       "      <td></td>\n",
       "      <td>2023-07-06</td>\n",
       "      <td>United Kingdom</td>\n",
       "      <td>False</td>\n",
       "      <td>verified ba treating premium economy passenger...</td>\n",
       "    </tr>\n",
       "    <tr>\n",
       "      <th>1</th>\n",
       "      <td>✅ Trip Verified |  24 hours before our departu...</td>\n",
       "      <td>4</td>\n",
       "      <td>2023-07-05</td>\n",
       "      <td>South Africa</td>\n",
       "      <td>True</td>\n",
       "      <td>hour departure ba cape town heathrow thursday ...</td>\n",
       "    </tr>\n",
       "    <tr>\n",
       "      <th>2</th>\n",
       "      <td>✅ Trip Verified |  We arrived at Heathrow at 0...</td>\n",
       "      <td>1</td>\n",
       "      <td>2023-07-05</td>\n",
       "      <td>United Kingdom</td>\n",
       "      <td>True</td>\n",
       "      <td>arrived heathrow find flight ibiza cancelled b...</td>\n",
       "    </tr>\n",
       "    <tr>\n",
       "      <th>3</th>\n",
       "      <td>✅ Trip Verified |  Original flight was cancell...</td>\n",
       "      <td>1</td>\n",
       "      <td>2023-07-04</td>\n",
       "      <td>Greece</td>\n",
       "      <td>True</td>\n",
       "      <td>original flight cancelled explanation represen...</td>\n",
       "    </tr>\n",
       "    <tr>\n",
       "      <th>4</th>\n",
       "      <td>Not Verified |  Airport check in was functiona...</td>\n",
       "      <td>3</td>\n",
       "      <td>2023-07-03</td>\n",
       "      <td>Italy</td>\n",
       "      <td>False</td>\n",
       "      <td>verified airport check functionary little warm...</td>\n",
       "    </tr>\n",
       "    <tr>\n",
       "      <th>...</th>\n",
       "      <td>...</td>\n",
       "      <td>...</td>\n",
       "      <td>...</td>\n",
       "      <td>...</td>\n",
       "      <td>...</td>\n",
       "      <td>...</td>\n",
       "    </tr>\n",
       "    <tr>\n",
       "      <th>3488</th>\n",
       "      <td>Flew World Traveller Plus for the first time. ...</td>\n",
       "      <td>7</td>\n",
       "      <td>2014-06-12</td>\n",
       "      <td>Canada</td>\n",
       "      <td>False</td>\n",
       "      <td>flew world traveller plus first time trip lhr ...</td>\n",
       "    </tr>\n",
       "    <tr>\n",
       "      <th>3489</th>\n",
       "      <td>Glasgow to LHR on a completely full flight. Th...</td>\n",
       "      <td></td>\n",
       "      <td>2014-06-12</td>\n",
       "      <td>United Kingdom</td>\n",
       "      <td>False</td>\n",
       "      <td>glasgow lhr completely full flight crew amazin...</td>\n",
       "    </tr>\n",
       "    <tr>\n",
       "      <th>3490</th>\n",
       "      <td>LHR-CPH-LHR both A320s. Other than bussed to s...</td>\n",
       "      <td>4</td>\n",
       "      <td>2014-06-12</td>\n",
       "      <td>United Kingdom</td>\n",
       "      <td>False</td>\n",
       "      <td>lhr cph lhr bussed stand outward good bus unex...</td>\n",
       "    </tr>\n",
       "    <tr>\n",
       "      <th>3491</th>\n",
       "      <td>The outward trip Manchester - Heathrow - Milan...</td>\n",
       "      <td>7</td>\n",
       "      <td>2014-06-10</td>\n",
       "      <td>United Kingdom</td>\n",
       "      <td>False</td>\n",
       "      <td>outward trip manchester heathrow milan fine ev...</td>\n",
       "    </tr>\n",
       "    <tr>\n",
       "      <th>3492</th>\n",
       "      <td>LHR to DXB Return. Outbound flight delayed 2 h...</td>\n",
       "      <td>2</td>\n",
       "      <td>2014-06-10</td>\n",
       "      <td>United Kingdom</td>\n",
       "      <td>False</td>\n",
       "      <td>lhr dxb return outbound flight delayed hour we...</td>\n",
       "    </tr>\n",
       "  </tbody>\n",
       "</table>\n",
       "<p>3493 rows × 6 columns</p>\n",
       "</div>"
      ],
      "text/plain": [
       "                                                reviews stars       date  \\\n",
       "0     Not Verified | BA is not treating its premium ...       2023-07-06   \n",
       "1     ✅ Trip Verified |  24 hours before our departu...     4 2023-07-05   \n",
       "2     ✅ Trip Verified |  We arrived at Heathrow at 0...     1 2023-07-05   \n",
       "3     ✅ Trip Verified |  Original flight was cancell...     1 2023-07-04   \n",
       "4     Not Verified |  Airport check in was functiona...     3 2023-07-03   \n",
       "...                                                 ...   ...        ...   \n",
       "3488  Flew World Traveller Plus for the first time. ...     7 2014-06-12   \n",
       "3489  Glasgow to LHR on a completely full flight. Th...       2014-06-12   \n",
       "3490  LHR-CPH-LHR both A320s. Other than bussed to s...     4 2014-06-12   \n",
       "3491  The outward trip Manchester - Heathrow - Milan...     7 2014-06-10   \n",
       "3492  LHR to DXB Return. Outbound flight delayed 2 h...     2 2014-06-10   \n",
       "\n",
       "             country  verified  \\\n",
       "0     United Kingdom     False   \n",
       "1       South Africa      True   \n",
       "2     United Kingdom      True   \n",
       "3             Greece      True   \n",
       "4              Italy     False   \n",
       "...              ...       ...   \n",
       "3488          Canada     False   \n",
       "3489  United Kingdom     False   \n",
       "3490  United Kingdom     False   \n",
       "3491  United Kingdom     False   \n",
       "3492  United Kingdom     False   \n",
       "\n",
       "                                                 corpus  \n",
       "0     verified ba treating premium economy passenger...  \n",
       "1     hour departure ba cape town heathrow thursday ...  \n",
       "2     arrived heathrow find flight ibiza cancelled b...  \n",
       "3     original flight cancelled explanation represen...  \n",
       "4     verified airport check functionary little warm...  \n",
       "...                                                 ...  \n",
       "3488  flew world traveller plus first time trip lhr ...  \n",
       "3489  glasgow lhr completely full flight crew amazin...  \n",
       "3490  lhr cph lhr bussed stand outward good bus unex...  \n",
       "3491  outward trip manchester heathrow milan fine ev...  \n",
       "3492  lhr dxb return outbound flight delayed hour we...  \n",
       "\n",
       "[3493 rows x 6 columns]"
      ]
     },
     "execution_count": 33,
     "metadata": {},
     "output_type": "execute_result"
    }
   ],
   "source": [
    "df.reset_index(drop=True)"
   ]
  },
  {
   "cell_type": "code",
   "execution_count": 34,
   "id": "c915a194",
   "metadata": {},
   "outputs": [],
   "source": [
    "#export cleaned data\n",
    "df.to_csv(cwd + \"/cleaned-BritAir-reviews.csv\")"
   ]
  },
  {
   "cell_type": "code",
   "execution_count": null,
   "id": "cf963434",
   "metadata": {},
   "outputs": [],
   "source": []
  }
 ],
 "metadata": {
  "kernelspec": {
   "display_name": "Python 3 (ipykernel)",
   "language": "python",
   "name": "python3"
  },
  "language_info": {
   "codemirror_mode": {
    "name": "ipython",
    "version": 3
   },
   "file_extension": ".py",
   "mimetype": "text/x-python",
   "name": "python",
   "nbconvert_exporter": "python",
   "pygments_lexer": "ipython3",
   "version": "3.10.9"
  }
 },
 "nbformat": 4,
 "nbformat_minor": 5
}
